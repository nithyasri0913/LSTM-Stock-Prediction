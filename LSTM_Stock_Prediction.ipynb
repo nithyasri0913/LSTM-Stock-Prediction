{
  "nbformat": 4,
  "nbformat_minor": 0,
  "metadata": {
    "colab": {
      "name": "LSTM Stock Prediction.ipynb",
      "provenance": []
    },
    "kernelspec": {
      "name": "python3",
      "display_name": "Python 3"
    },
    "language_info": {
      "name": "python"
    }
  },
  "cells": [
    {
      "cell_type": "code",
      "source": [
        "import math\n",
        "import pandas_datareader as web\n",
        "import numpy as np\n",
        "import pandas as pd\n",
        "from sklearn.preprocessing import MinMaxScaler\n",
        "from keras.models import Sequential\n",
        "from keras.layers import Dense, LSTM\n",
        "import matplotlib.pyplot as plt\n",
        "plt.style.use('fivethirtyeight')"
      ],
      "metadata": {
        "id": "dNrlznTqOOVv"
      },
      "execution_count": 1,
      "outputs": []
    },
    {
      "cell_type": "code",
      "source": [
        "#get the stock quote\n",
        "df=web.DataReader('AAPL',data_source='yahoo',start='2012-01-01', end='2022-08-24') \n",
        "df"
      ],
      "metadata": {
        "colab": {
          "base_uri": "https://localhost:8080/",
          "height": 455
        },
        "id": "UMbZbYbkOTci",
        "outputId": "da99ae01-3a4b-4e92-9a93-472f080f91a4"
      },
      "execution_count": 8,
      "outputs": [
        {
          "output_type": "execute_result",
          "data": {
            "text/plain": [
              "                  High         Low        Open       Close       Volume  \\\n",
              "Date                                                                      \n",
              "2012-01-03   14.732143   14.607143   14.621429   14.686786  302220800.0   \n",
              "2012-01-04   14.810000   14.617143   14.642857   14.765714  260022000.0   \n",
              "2012-01-05   14.948214   14.738214   14.819643   14.929643  271269600.0   \n",
              "2012-01-06   15.098214   14.972143   14.991786   15.085714  318292800.0   \n",
              "2012-01-09   15.276786   15.048214   15.196429   15.061786  394024400.0   \n",
              "...                ...         ...         ...         ...          ...   \n",
              "2022-08-18  174.899994  173.119995  173.750000  174.149994   62290100.0   \n",
              "2022-08-19  173.740005  171.309998  173.029999  171.520004   70211500.0   \n",
              "2022-08-22  169.860001  167.139999  169.690002  167.570007   69026800.0   \n",
              "2022-08-23  168.710007  166.649994  167.080002  167.229996   54091400.0   \n",
              "2022-08-24  167.979996  166.244995  167.320007  167.919998   41164875.0   \n",
              "\n",
              "             Adj Close  \n",
              "Date                    \n",
              "2012-01-03   12.540044  \n",
              "2012-01-04   12.607436  \n",
              "2012-01-05   12.747408  \n",
              "2012-01-06   12.880661  \n",
              "2012-01-09   12.860232  \n",
              "...                ...  \n",
              "2022-08-18  174.149994  \n",
              "2022-08-19  171.520004  \n",
              "2022-08-22  167.570007  \n",
              "2022-08-23  167.229996  \n",
              "2022-08-24  167.919998  \n",
              "\n",
              "[2679 rows x 6 columns]"
            ],
            "text/html": [
              "\n",
              "  <div id=\"df-f0acc1c9-e496-4f44-a9aa-60567159fbd0\">\n",
              "    <div class=\"colab-df-container\">\n",
              "      <div>\n",
              "<style scoped>\n",
              "    .dataframe tbody tr th:only-of-type {\n",
              "        vertical-align: middle;\n",
              "    }\n",
              "\n",
              "    .dataframe tbody tr th {\n",
              "        vertical-align: top;\n",
              "    }\n",
              "\n",
              "    .dataframe thead th {\n",
              "        text-align: right;\n",
              "    }\n",
              "</style>\n",
              "<table border=\"1\" class=\"dataframe\">\n",
              "  <thead>\n",
              "    <tr style=\"text-align: right;\">\n",
              "      <th></th>\n",
              "      <th>High</th>\n",
              "      <th>Low</th>\n",
              "      <th>Open</th>\n",
              "      <th>Close</th>\n",
              "      <th>Volume</th>\n",
              "      <th>Adj Close</th>\n",
              "    </tr>\n",
              "    <tr>\n",
              "      <th>Date</th>\n",
              "      <th></th>\n",
              "      <th></th>\n",
              "      <th></th>\n",
              "      <th></th>\n",
              "      <th></th>\n",
              "      <th></th>\n",
              "    </tr>\n",
              "  </thead>\n",
              "  <tbody>\n",
              "    <tr>\n",
              "      <th>2012-01-03</th>\n",
              "      <td>14.732143</td>\n",
              "      <td>14.607143</td>\n",
              "      <td>14.621429</td>\n",
              "      <td>14.686786</td>\n",
              "      <td>302220800.0</td>\n",
              "      <td>12.540044</td>\n",
              "    </tr>\n",
              "    <tr>\n",
              "      <th>2012-01-04</th>\n",
              "      <td>14.810000</td>\n",
              "      <td>14.617143</td>\n",
              "      <td>14.642857</td>\n",
              "      <td>14.765714</td>\n",
              "      <td>260022000.0</td>\n",
              "      <td>12.607436</td>\n",
              "    </tr>\n",
              "    <tr>\n",
              "      <th>2012-01-05</th>\n",
              "      <td>14.948214</td>\n",
              "      <td>14.738214</td>\n",
              "      <td>14.819643</td>\n",
              "      <td>14.929643</td>\n",
              "      <td>271269600.0</td>\n",
              "      <td>12.747408</td>\n",
              "    </tr>\n",
              "    <tr>\n",
              "      <th>2012-01-06</th>\n",
              "      <td>15.098214</td>\n",
              "      <td>14.972143</td>\n",
              "      <td>14.991786</td>\n",
              "      <td>15.085714</td>\n",
              "      <td>318292800.0</td>\n",
              "      <td>12.880661</td>\n",
              "    </tr>\n",
              "    <tr>\n",
              "      <th>2012-01-09</th>\n",
              "      <td>15.276786</td>\n",
              "      <td>15.048214</td>\n",
              "      <td>15.196429</td>\n",
              "      <td>15.061786</td>\n",
              "      <td>394024400.0</td>\n",
              "      <td>12.860232</td>\n",
              "    </tr>\n",
              "    <tr>\n",
              "      <th>...</th>\n",
              "      <td>...</td>\n",
              "      <td>...</td>\n",
              "      <td>...</td>\n",
              "      <td>...</td>\n",
              "      <td>...</td>\n",
              "      <td>...</td>\n",
              "    </tr>\n",
              "    <tr>\n",
              "      <th>2022-08-18</th>\n",
              "      <td>174.899994</td>\n",
              "      <td>173.119995</td>\n",
              "      <td>173.750000</td>\n",
              "      <td>174.149994</td>\n",
              "      <td>62290100.0</td>\n",
              "      <td>174.149994</td>\n",
              "    </tr>\n",
              "    <tr>\n",
              "      <th>2022-08-19</th>\n",
              "      <td>173.740005</td>\n",
              "      <td>171.309998</td>\n",
              "      <td>173.029999</td>\n",
              "      <td>171.520004</td>\n",
              "      <td>70211500.0</td>\n",
              "      <td>171.520004</td>\n",
              "    </tr>\n",
              "    <tr>\n",
              "      <th>2022-08-22</th>\n",
              "      <td>169.860001</td>\n",
              "      <td>167.139999</td>\n",
              "      <td>169.690002</td>\n",
              "      <td>167.570007</td>\n",
              "      <td>69026800.0</td>\n",
              "      <td>167.570007</td>\n",
              "    </tr>\n",
              "    <tr>\n",
              "      <th>2022-08-23</th>\n",
              "      <td>168.710007</td>\n",
              "      <td>166.649994</td>\n",
              "      <td>167.080002</td>\n",
              "      <td>167.229996</td>\n",
              "      <td>54091400.0</td>\n",
              "      <td>167.229996</td>\n",
              "    </tr>\n",
              "    <tr>\n",
              "      <th>2022-08-24</th>\n",
              "      <td>167.979996</td>\n",
              "      <td>166.244995</td>\n",
              "      <td>167.320007</td>\n",
              "      <td>167.919998</td>\n",
              "      <td>41164875.0</td>\n",
              "      <td>167.919998</td>\n",
              "    </tr>\n",
              "  </tbody>\n",
              "</table>\n",
              "<p>2679 rows × 6 columns</p>\n",
              "</div>\n",
              "      <button class=\"colab-df-convert\" onclick=\"convertToInteractive('df-f0acc1c9-e496-4f44-a9aa-60567159fbd0')\"\n",
              "              title=\"Convert this dataframe to an interactive table.\"\n",
              "              style=\"display:none;\">\n",
              "        \n",
              "  <svg xmlns=\"http://www.w3.org/2000/svg\" height=\"24px\"viewBox=\"0 0 24 24\"\n",
              "       width=\"24px\">\n",
              "    <path d=\"M0 0h24v24H0V0z\" fill=\"none\"/>\n",
              "    <path d=\"M18.56 5.44l.94 2.06.94-2.06 2.06-.94-2.06-.94-.94-2.06-.94 2.06-2.06.94zm-11 1L8.5 8.5l.94-2.06 2.06-.94-2.06-.94L8.5 2.5l-.94 2.06-2.06.94zm10 10l.94 2.06.94-2.06 2.06-.94-2.06-.94-.94-2.06-.94 2.06-2.06.94z\"/><path d=\"M17.41 7.96l-1.37-1.37c-.4-.4-.92-.59-1.43-.59-.52 0-1.04.2-1.43.59L10.3 9.45l-7.72 7.72c-.78.78-.78 2.05 0 2.83L4 21.41c.39.39.9.59 1.41.59.51 0 1.02-.2 1.41-.59l7.78-7.78 2.81-2.81c.8-.78.8-2.07 0-2.86zM5.41 20L4 18.59l7.72-7.72 1.47 1.35L5.41 20z\"/>\n",
              "  </svg>\n",
              "      </button>\n",
              "      \n",
              "  <style>\n",
              "    .colab-df-container {\n",
              "      display:flex;\n",
              "      flex-wrap:wrap;\n",
              "      gap: 12px;\n",
              "    }\n",
              "\n",
              "    .colab-df-convert {\n",
              "      background-color: #E8F0FE;\n",
              "      border: none;\n",
              "      border-radius: 50%;\n",
              "      cursor: pointer;\n",
              "      display: none;\n",
              "      fill: #1967D2;\n",
              "      height: 32px;\n",
              "      padding: 0 0 0 0;\n",
              "      width: 32px;\n",
              "    }\n",
              "\n",
              "    .colab-df-convert:hover {\n",
              "      background-color: #E2EBFA;\n",
              "      box-shadow: 0px 1px 2px rgba(60, 64, 67, 0.3), 0px 1px 3px 1px rgba(60, 64, 67, 0.15);\n",
              "      fill: #174EA6;\n",
              "    }\n",
              "\n",
              "    [theme=dark] .colab-df-convert {\n",
              "      background-color: #3B4455;\n",
              "      fill: #D2E3FC;\n",
              "    }\n",
              "\n",
              "    [theme=dark] .colab-df-convert:hover {\n",
              "      background-color: #434B5C;\n",
              "      box-shadow: 0px 1px 3px 1px rgba(0, 0, 0, 0.15);\n",
              "      filter: drop-shadow(0px 1px 2px rgba(0, 0, 0, 0.3));\n",
              "      fill: #FFFFFF;\n",
              "    }\n",
              "  </style>\n",
              "\n",
              "      <script>\n",
              "        const buttonEl =\n",
              "          document.querySelector('#df-f0acc1c9-e496-4f44-a9aa-60567159fbd0 button.colab-df-convert');\n",
              "        buttonEl.style.display =\n",
              "          google.colab.kernel.accessAllowed ? 'block' : 'none';\n",
              "\n",
              "        async function convertToInteractive(key) {\n",
              "          const element = document.querySelector('#df-f0acc1c9-e496-4f44-a9aa-60567159fbd0');\n",
              "          const dataTable =\n",
              "            await google.colab.kernel.invokeFunction('convertToInteractive',\n",
              "                                                     [key], {});\n",
              "          if (!dataTable) return;\n",
              "\n",
              "          const docLinkHtml = 'Like what you see? Visit the ' +\n",
              "            '<a target=\"_blank\" href=https://colab.research.google.com/notebooks/data_table.ipynb>data table notebook</a>'\n",
              "            + ' to learn more about interactive tables.';\n",
              "          element.innerHTML = '';\n",
              "          dataTable['output_type'] = 'display_data';\n",
              "          await google.colab.output.renderOutput(dataTable, element);\n",
              "          const docLink = document.createElement('div');\n",
              "          docLink.innerHTML = docLinkHtml;\n",
              "          element.appendChild(docLink);\n",
              "        }\n",
              "      </script>\n",
              "    </div>\n",
              "  </div>\n",
              "  "
            ]
          },
          "metadata": {},
          "execution_count": 8
        }
      ]
    },
    {
      "cell_type": "code",
      "source": [
        "df.shape"
      ],
      "metadata": {
        "colab": {
          "base_uri": "https://localhost:8080/"
        },
        "id": "RrX3DZuyOT_K",
        "outputId": "70e50b5b-e038-4004-fb78-9437f9cdca60"
      },
      "execution_count": 4,
      "outputs": [
        {
          "output_type": "execute_result",
          "data": {
            "text/plain": [
              "(2679, 6)"
            ]
          },
          "metadata": {},
          "execution_count": 4
        }
      ]
    },
    {
      "cell_type": "code",
      "source": [
        "#Visualize Close Price history\n",
        "plt.figure(figsize=(16,8))\n",
        "plt.title('Close Price history')\n",
        "plt.plot(df['Close'])\n",
        "plt.xlabel('Date')\n",
        "plt.ylabel('Close Price ($)')\n",
        "plt.show()"
      ],
      "metadata": {
        "colab": {
          "base_uri": "https://localhost:8080/",
          "height": 558
        },
        "id": "j5U5e79oOaPc",
        "outputId": "a6e39ed7-0edf-4799-99c2-cf2068526ca0"
      },
      "execution_count": 7,
      "outputs": [
        {
          "output_type": "display_data",
          "data": {
            "text/plain": [
              "<Figure size 1152x576 with 1 Axes>"
            ],
            "image/png": "[encoded data removed]"
          },
          "metadata": {}
        }
      ]
    },
    {
      "cell_type": "code",
      "source": [
        "#only close column\n",
        "data=df.filter(['Close'])"
      ],
      "metadata": {
        "id": "5Exed6uWOaSS"
      },
      "execution_count": 10,
      "outputs": []
    },
    {
      "cell_type": "code",
      "source": [
        "#convert to numpy\n",
        "dataset=data.values"
      ],
      "metadata": {
        "id": "L1qKPf9ZOaVa"
      },
      "execution_count": 13,
      "outputs": []
    },
    {
      "cell_type": "code",
      "source": [
        "training_data_len=math.ceil(len(dataset)*0.8)\n",
        "training_data_len"
      ],
      "metadata": {
        "colab": {
          "base_uri": "https://localhost:8080/"
        },
        "id": "6ozm8Q8HOaYA",
        "outputId": "af16c741-5991-47a8-f002-0bf4462b6118"
      },
      "execution_count": 14,
      "outputs": [
        {
          "output_type": "execute_result",
          "data": {
            "text/plain": [
              "2144"
            ]
          },
          "metadata": {},
          "execution_count": 14
        }
      ]
    },
    {
      "cell_type": "code",
      "source": [
        "#Scale the data\n",
        "scaler=MinMaxScaler(feature_range=(0,1))\n",
        "scaled_data=scaler.fit_transform(dataset)\n",
        "scaled_data"
      ],
      "metadata": {
        "colab": {
          "base_uri": "https://localhost:8080/"
        },
        "id": "Sep_Xb6TOaa5",
        "outputId": "b917d2c0-c63e-4751-eb61-bb279c16139f"
      },
      "execution_count": 16,
      "outputs": [
        {
          "output_type": "execute_result",
          "data": {
            "text/plain": [
              "array([[0.00439887],\n",
              "       [0.00486851],\n",
              "       [0.00584391],\n",
              "       ...,\n",
              "       [0.91407966],\n",
              "       [0.91205653],\n",
              "       [0.91616216]])"
            ]
          },
          "metadata": {},
          "execution_count": 16
        }
      ]
    },
    {
      "cell_type": "code",
      "source": [
        "#create the scaled training data set\n",
        "train_data=scaled_data[0:training_data_len,:]\n",
        "#split into x_train and y_train datasets\n",
        "x_train=[]\n",
        "y_train=[]\n",
        "for i in range(60, len(train_data)):\n",
        "  x_train.append(train_data[i-60:i,0])\n",
        "  y_train.append(train_data[i,0])\n",
        "  if i<=61:\n",
        "    print(x_train)\n",
        "    print(y_train)\n",
        "    print()\n",
        "\n"
      ],
      "metadata": {
        "colab": {
          "base_uri": "https://localhost:8080/"
        },
        "id": "PZnCgvSmT5rm",
        "outputId": "39a604f2-3f83-4a06-ebfa-cb42752a2742"
      },
      "execution_count": 20,
      "outputs": [
        {
          "output_type": "stream",
          "name": "stdout",
          "text": [
            "[array([0.00439887, 0.00486851, 0.00584391, 0.00677256, 0.00663019,\n",
            "       0.00695107, 0.00680444, 0.00655793, 0.00622217, 0.00726133,\n",
            "       0.00819848, 0.00790947, 0.0063263 , 0.00783722, 0.00634968,\n",
            "       0.01192796, 0.01149658, 0.01205972, 0.01327737, 0.01401476,\n",
            "       0.01395314, 0.01372576, 0.01469479, 0.01560643, 0.01663922,\n",
            "       0.01830739, 0.02181161, 0.02186474, 0.02381555, 0.02527333,\n",
            "       0.0227679 , 0.02373267, 0.02371354, 0.02641875, 0.02603411,\n",
            "       0.026746  , 0.02802528, 0.02873719, 0.03078787, 0.03228178,\n",
            "       0.03271317, 0.03286405, 0.03030973, 0.02969346, 0.02978484,\n",
            "       0.03218616, 0.03286193, 0.03431335, 0.03773469, 0.04229932,\n",
            "       0.04144504, 0.04144716, 0.04474738, 0.04578017, 0.04504489,\n",
            "       0.04437338, 0.04367423, 0.04599691, 0.04759072, 0.04825798])]\n",
            "[0.04660893460974819]\n",
            "\n",
            "[array([0.00439887, 0.00486851, 0.00584391, 0.00677256, 0.00663019,\n",
            "       0.00695107, 0.00680444, 0.00655793, 0.00622217, 0.00726133,\n",
            "       0.00819848, 0.00790947, 0.0063263 , 0.00783722, 0.00634968,\n",
            "       0.01192796, 0.01149658, 0.01205972, 0.01327737, 0.01401476,\n",
            "       0.01395314, 0.01372576, 0.01469479, 0.01560643, 0.01663922,\n",
            "       0.01830739, 0.02181161, 0.02186474, 0.02381555, 0.02527333,\n",
            "       0.0227679 , 0.02373267, 0.02371354, 0.02641875, 0.02603411,\n",
            "       0.026746  , 0.02802528, 0.02873719, 0.03078787, 0.03228178,\n",
            "       0.03271317, 0.03286405, 0.03030973, 0.02969346, 0.02978484,\n",
            "       0.03218616, 0.03286193, 0.03431335, 0.03773469, 0.04229932,\n",
            "       0.04144504, 0.04144716, 0.04474738, 0.04578017, 0.04504489,\n",
            "       0.04437338, 0.04367423, 0.04599691, 0.04759072, 0.04825798]), array([0.00486851, 0.00584391, 0.00677256, 0.00663019, 0.00695107,\n",
            "       0.00680444, 0.00655793, 0.00622217, 0.00726133, 0.00819848,\n",
            "       0.00790947, 0.0063263 , 0.00783722, 0.00634968, 0.01192796,\n",
            "       0.01149658, 0.01205972, 0.01327737, 0.01401476, 0.01395314,\n",
            "       0.01372576, 0.01469479, 0.01560643, 0.01663922, 0.01830739,\n",
            "       0.02181161, 0.02186474, 0.02381555, 0.02527333, 0.0227679 ,\n",
            "       0.02373267, 0.02371354, 0.02641875, 0.02603411, 0.026746  ,\n",
            "       0.02802528, 0.02873719, 0.03078787, 0.03228178, 0.03271317,\n",
            "       0.03286405, 0.03030973, 0.02969346, 0.02978484, 0.03218616,\n",
            "       0.03286193, 0.03431335, 0.03773469, 0.04229932, 0.04144504,\n",
            "       0.04144716, 0.04474738, 0.04578017, 0.04504489, 0.04437338,\n",
            "       0.04367423, 0.04599691, 0.04759072, 0.04825798, 0.04660893])]\n",
            "[0.04660893460974819, 0.04441800167645807]\n",
            "\n"
          ]
        }
      ]
    },
    {
      "cell_type": "code",
      "source": [
        "#convert x_train and y_train to numpy arrays\n",
        "x_train,y_train=np.array(x_train), np.array(y_train)"
      ],
      "metadata": {
        "id": "OnSqCCu1T5u-"
      },
      "execution_count": 21,
      "outputs": []
    },
    {
      "cell_type": "code",
      "source": [
        "#reshape \n",
        "x_train=np.reshape(x_train,(x_train.shape[0], x_train.shape[1],1))\n",
        "x_train.shape"
      ],
      "metadata": {
        "colab": {
          "base_uri": "https://localhost:8080/"
        },
        "id": "kNTf1a1UT5yG",
        "outputId": "245596be-a2ac-4ea0-cdd5-d04168c7b268"
      },
      "execution_count": 23,
      "outputs": [
        {
          "output_type": "execute_result",
          "data": {
            "text/plain": [
              "(2084, 60, 1)"
            ]
          },
          "metadata": {},
          "execution_count": 23
        }
      ]
    },
    {
      "cell_type": "code",
      "source": [
        "model=Sequential()\n",
        "model.add(LSTM(50,return_sequences=True,input_shape=(x_train.shape[1],1)))\n",
        "model.add(LSTM(50,return_sequences=False))\n",
        "model.add(Dense(25))\n",
        "model.add(Dense(1))"
      ],
      "metadata": {
        "id": "6Sv9AywsT51O"
      },
      "execution_count": 24,
      "outputs": []
    },
    {
      "cell_type": "code",
      "source": [
        "#Compile the model\n",
        "model.compile(optimizer='adam', loss='mean_squared_error')"
      ],
      "metadata": {
        "id": "sRJpdukXT54F"
      },
      "execution_count": 25,
      "outputs": []
    },
    {
      "cell_type": "code",
      "source": [
        "model.fit(x_train,y_train,batch_size=1,epochs=1)"
      ],
      "metadata": {
        "colab": {
          "base_uri": "https://localhost:8080/"
        },
        "id": "FQnpMPkMT56r",
        "outputId": "f832f564-f0cb-4168-c1fe-34599ef20778"
      },
      "execution_count": 26,
      "outputs": [
        {
          "output_type": "stream",
          "name": "stdout",
          "text": [
            "2084/2084 [==============================] - 67s 31ms/step - loss: 3.4057e-04\n"
          ]
        },
        {
          "output_type": "execute_result",
          "data": {
            "text/plain": [
              "<keras.callbacks.History at 0x7f0939dd65d0>"
            ]
          },
          "metadata": {},
          "execution_count": 26
        }
      ]
    },
    {
      "cell_type": "code",
      "source": [
        "#Create the testing dataset- a new array containing scaled values from 2048 to 2679\n",
        "test_data=scaled_data[training_data_len-60:,:]\n",
        "#Create x_test, y_test\n",
        "x_test=[]\n",
        "y_test=dataset[training_data_len:,:]\n",
        "for i in range(60, len(test_data)):\n",
        "  x_test.append(test_data[i-60:i,0])"
      ],
      "metadata": {
        "id": "qYeRRbhUOadv"
      },
      "execution_count": 33,
      "outputs": []
    },
    {
      "cell_type": "code",
      "source": [
        "#Convert to numpy array\n",
        "x_test=np.array(x_test)"
      ],
      "metadata": {
        "id": "CX0iskjmcDVj"
      },
      "execution_count": 34,
      "outputs": []
    },
    {
      "cell_type": "code",
      "source": [
        "#reshape \n",
        "x_test=np.reshape(x_test,(x_test.shape[0], x_test.shape[1],1))\n",
        "x_test.shape"
      ],
      "metadata": {
        "colab": {
          "base_uri": "https://localhost:8080/"
        },
        "id": "uL8aMwikcDdD",
        "outputId": "b00b58be-bc9f-400e-99a1-2bcb94931ddc"
      },
      "execution_count": 35,
      "outputs": [
        {
          "output_type": "execute_result",
          "data": {
            "text/plain": [
              "(535, 60, 1)"
            ]
          },
          "metadata": {},
          "execution_count": 35
        }
      ]
    },
    {
      "cell_type": "code",
      "source": [
        "#Get the models' predicted price values\n",
        "predictions=model.predict(x_test)\n",
        "predictions=scaler.inverse_transform(predictions)"
      ],
      "metadata": {
        "id": "jmthJVxLcDgK"
      },
      "execution_count": 36,
      "outputs": []
    },
    {
      "cell_type": "code",
      "source": [
        "#RMSE\n",
        "rmse=np.sqrt(np.mean(predictions-y_test)**2)\n",
        "rmse"
      ],
      "metadata": {
        "colab": {
          "base_uri": "https://localhost:8080/"
        },
        "id": "f5K7G23pdrWk",
        "outputId": "94bd2935-70c0-4f6c-90f1-893ac606db58"
      },
      "execution_count": 37,
      "outputs": [
        {
          "output_type": "execute_result",
          "data": {
            "text/plain": [
              "1.2804644575742918"
            ]
          },
          "metadata": {},
          "execution_count": 37
        }
      ]
    },
    {
      "cell_type": "code",
      "source": [
        "#plot the data\n",
        "train=data[:training_data_len]\n",
        "valid=data[training_data_len:]\n",
        "valid['Predictions']=predictions\n",
        "#Visualize the data\n",
        "plt.figure(figsize=(16,8))\n",
        "plt.title('Model')\n",
        "plt.xlabel('Date')\n",
        "plt.ylabel('Close Price ($)')\n",
        "plt.plot(train['Close'])\n",
        "plt.plot(valid[['Close','Predictions']])\n",
        "plt.legend(['Train','Val','Predictions'],loc='lower right')\n",
        "plt.show()"
      ],
      "metadata": {
        "colab": {
          "base_uri": "https://localhost:8080/",
          "height": 665
        },
        "id": "s9wYBmzZcDjC",
        "outputId": "e13ad17b-db68-4541-d395-b457b4720ef4"
      },
      "execution_count": 38,
      "outputs": [
        {
          "output_type": "stream",
          "name": "stderr",
          "text": [
            "/usr/local/lib/python3.7/dist-packages/ipykernel_launcher.py:4: SettingWithCopyWarning: \n",
            "A value is trying to be set on a copy of a slice from a DataFrame.\n",
            "Try using .loc[row_indexer,col_indexer] = value instead\n",
            "\n",
            "See the caveats in the documentation: https://pandas.pydata.org/pandas-docs/stable/user_guide/indexing.html#returning-a-view-versus-a-copy\n",
            "  after removing the cwd from sys.path.\n"
          ]
        },
        {
          "output_type": "display_data",
          "data": {
            "text/plain": [
              "<Figure size 1152x576 with 1 Axes>"
            ],
            "image/png": "[encoded data removed]"
          },
          "metadata": {}
        }
      ]
    },
    {
      "cell_type": "code",
      "source": [
        "#show val and pred prices\n",
        "valid"
      ],
      "metadata": {
        "colab": {
          "base_uri": "https://localhost:8080/",
          "height": 455
        },
        "id": "Qfe6mmi2cDlo",
        "outputId": "92262e4f-3c75-42ad-c36d-710d63c7062c"
      },
      "execution_count": 39,
      "outputs": [
        {
          "output_type": "execute_result",
          "data": {
            "text/plain": [
              "                 Close  Predictions\n",
              "Date                               \n",
              "2020-07-13   95.477501    93.405365\n",
              "2020-07-14   97.057503    93.960251\n",
              "2020-07-15   97.724998    94.582703\n",
              "2020-07-16   96.522499    95.235466\n",
              "2020-07-17   96.327499    95.614281\n",
              "...                ...          ...\n",
              "2022-08-18  174.149994   170.796417\n",
              "2022-08-19  171.520004   171.702103\n",
              "2022-08-22  167.570007   171.892914\n",
              "2022-08-23  167.229996   171.097961\n",
              "2022-08-24  167.919998   169.980392\n",
              "\n",
              "[535 rows x 2 columns]"
            ],
            "text/html": [
              "\n",
              "  <div id=\"df-ae5963ec-a01e-4772-af94-eee0861cb010\">\n",
              "    <div class=\"colab-df-container\">\n",
              "      <div>\n",
              "<style scoped>\n",
              "    .dataframe tbody tr th:only-of-type {\n",
              "        vertical-align: middle;\n",
              "    }\n",
              "\n",
              "    .dataframe tbody tr th {\n",
              "        vertical-align: top;\n",
              "    }\n",
              "\n",
              "    .dataframe thead th {\n",
              "        text-align: right;\n",
              "    }\n",
              "</style>\n",
              "<table border=\"1\" class=\"dataframe\">\n",
              "  <thead>\n",
              "    <tr style=\"text-align: right;\">\n",
              "      <th></th>\n",
              "      <th>Close</th>\n",
              "      <th>Predictions</th>\n",
              "    </tr>\n",
              "    <tr>\n",
              "      <th>Date</th>\n",
              "      <th></th>\n",
              "      <th></th>\n",
              "    </tr>\n",
              "  </thead>\n",
              "  <tbody>\n",
              "    <tr>\n",
              "      <th>2020-07-13</th>\n",
              "      <td>95.477501</td>\n",
              "      <td>93.405365</td>\n",
              "    </tr>\n",
              "    <tr>\n",
              "      <th>2020-07-14</th>\n",
              "      <td>97.057503</td>\n",
              "      <td>93.960251</td>\n",
              "    </tr>\n",
              "    <tr>\n",
              "      <th>2020-07-15</th>\n",
              "      <td>97.724998</td>\n",
              "      <td>94.582703</td>\n",
              "    </tr>\n",
              "    <tr>\n",
              "      <th>2020-07-16</th>\n",
              "      <td>96.522499</td>\n",
              "      <td>95.235466</td>\n",
              "    </tr>\n",
              "    <tr>\n",
              "      <th>2020-07-17</th>\n",
              "      <td>96.327499</td>\n",
              "      <td>95.614281</td>\n",
              "    </tr>\n",
              "    <tr>\n",
              "      <th>...</th>\n",
              "      <td>...</td>\n",
              "      <td>...</td>\n",
              "    </tr>\n",
              "    <tr>\n",
              "      <th>2022-08-18</th>\n",
              "      <td>174.149994</td>\n",
              "      <td>170.796417</td>\n",
              "    </tr>\n",
              "    <tr>\n",
              "      <th>2022-08-19</th>\n",
              "      <td>171.520004</td>\n",
              "      <td>171.702103</td>\n",
              "    </tr>\n",
              "    <tr>\n",
              "      <th>2022-08-22</th>\n",
              "      <td>167.570007</td>\n",
              "      <td>171.892914</td>\n",
              "    </tr>\n",
              "    <tr>\n",
              "      <th>2022-08-23</th>\n",
              "      <td>167.229996</td>\n",
              "      <td>171.097961</td>\n",
              "    </tr>\n",
              "    <tr>\n",
              "      <th>2022-08-24</th>\n",
              "      <td>167.919998</td>\n",
              "      <td>169.980392</td>\n",
              "    </tr>\n",
              "  </tbody>\n",
              "</table>\n",
              "<p>535 rows × 2 columns</p>\n",
              "</div>\n",
              "      <button class=\"colab-df-convert\" onclick=\"convertToInteractive('df-ae5963ec-a01e-4772-af94-eee0861cb010')\"\n",
              "              title=\"Convert this dataframe to an interactive table.\"\n",
              "              style=\"display:none;\">\n",
              "        \n",
              "  <svg xmlns=\"http://www.w3.org/2000/svg\" height=\"24px\"viewBox=\"0 0 24 24\"\n",
              "       width=\"24px\">\n",
              "    <path d=\"M0 0h24v24H0V0z\" fill=\"none\"/>\n",
              "    <path d=\"M18.56 5.44l.94 2.06.94-2.06 2.06-.94-2.06-.94-.94-2.06-.94 2.06-2.06.94zm-11 1L8.5 8.5l.94-2.06 2.06-.94-2.06-.94L8.5 2.5l-.94 2.06-2.06.94zm10 10l.94 2.06.94-2.06 2.06-.94-2.06-.94-.94-2.06-.94 2.06-2.06.94z\"/><path d=\"M17.41 7.96l-1.37-1.37c-.4-.4-.92-.59-1.43-.59-.52 0-1.04.2-1.43.59L10.3 9.45l-7.72 7.72c-.78.78-.78 2.05 0 2.83L4 21.41c.39.39.9.59 1.41.59.51 0 1.02-.2 1.41-.59l7.78-7.78 2.81-2.81c.8-.78.8-2.07 0-2.86zM5.41 20L4 18.59l7.72-7.72 1.47 1.35L5.41 20z\"/>\n",
              "  </svg>\n",
              "      </button>\n",
              "      \n",
              "  <style>\n",
              "    .colab-df-container {\n",
              "      display:flex;\n",
              "      flex-wrap:wrap;\n",
              "      gap: 12px;\n",
              "    }\n",
              "\n",
              "    .colab-df-convert {\n",
              "      background-color: #E8F0FE;\n",
              "      border: none;\n",
              "      border-radius: 50%;\n",
              "      cursor: pointer;\n",
              "      display: none;\n",
              "      fill: #1967D2;\n",
              "      height: 32px;\n",
              "      padding: 0 0 0 0;\n",
              "      width: 32px;\n",
              "    }\n",
              "\n",
              "    .colab-df-convert:hover {\n",
              "      background-color: #E2EBFA;\n",
              "      box-shadow: 0px 1px 2px rgba(60, 64, 67, 0.3), 0px 1px 3px 1px rgba(60, 64, 67, 0.15);\n",
              "      fill: #174EA6;\n",
              "    }\n",
              "\n",
              "    [theme=dark] .colab-df-convert {\n",
              "      background-color: #3B4455;\n",
              "      fill: #D2E3FC;\n",
              "    }\n",
              "\n",
              "    [theme=dark] .colab-df-convert:hover {\n",
              "      background-color: #434B5C;\n",
              "      box-shadow: 0px 1px 3px 1px rgba(0, 0, 0, 0.15);\n",
              "      filter: drop-shadow(0px 1px 2px rgba(0, 0, 0, 0.3));\n",
              "      fill: #FFFFFF;\n",
              "    }\n",
              "  </style>\n",
              "\n",
              "      <script>\n",
              "        const buttonEl =\n",
              "          document.querySelector('#df-ae5963ec-a01e-4772-af94-eee0861cb010 button.colab-df-convert');\n",
              "        buttonEl.style.display =\n",
              "          google.colab.kernel.accessAllowed ? 'block' : 'none';\n",
              "\n",
              "        async function convertToInteractive(key) {\n",
              "          const element = document.querySelector('#df-ae5963ec-a01e-4772-af94-eee0861cb010');\n",
              "          const dataTable =\n",
              "            await google.colab.kernel.invokeFunction('convertToInteractive',\n",
              "                                                     [key], {});\n",
              "          if (!dataTable) return;\n",
              "\n",
              "          const docLinkHtml = 'Like what you see? Visit the ' +\n",
              "            '<a target=\"_blank\" href=https://colab.research.google.com/notebooks/data_table.ipynb>data table notebook</a>'\n",
              "            + ' to learn more about interactive tables.';\n",
              "          element.innerHTML = '';\n",
              "          dataTable['output_type'] = 'display_data';\n",
              "          await google.colab.output.renderOutput(dataTable, element);\n",
              "          const docLink = document.createElement('div');\n",
              "          docLink.innerHTML = docLinkHtml;\n",
              "          element.appendChild(docLink);\n",
              "        }\n",
              "      </script>\n",
              "    </div>\n",
              "  </div>\n",
              "  "
            ]
          },
          "metadata": {},
          "execution_count": 39
        }
      ]
    },
    {
      "cell_type": "code",
      "source": [
        "#Preediction\n",
        "#Get the quote\n",
        "apple_quote=web.DataReader('AAPL',data_source='yahoo',start='2012-01-01', end='2022-08-24')\n",
        "#new dataframe\n",
        "new_df=apple_quote.filter(['Close'])\n",
        "#Get the last 60 days closing price and convert it to an array\n",
        "last_60_days=new_df[-60:].values\n",
        "#Scale the data \n",
        "last_60_days_scaled=scaler.transform(last_60_days)\n",
        "#empty list\n",
        "X_test=[]\n",
        "#append the past 60 days\n",
        "X_test.append(last_60_days_scaled)\n",
        "#convert X_test to a numpy array\n",
        "X_test=np.array(X_test)\n",
        "#Reshape\n",
        "X_test=np.reshape(X_test,(X_test.shape[0],X_test.shape[1],1))\n",
        "#predicted scaled price\n",
        "pred_price=model.predict(X_test)\n",
        "#undo the scaling\n",
        "pred_price=scaler.inverse_transform(pred_price)\n",
        "print(pred_price)\n"
      ],
      "metadata": {
        "colab": {
          "base_uri": "https://localhost:8080/"
        },
        "id": "Xl8ToodHcDoA",
        "outputId": "a26e6189-7946-4cd2-f222-114dc25fc7ed"
      },
      "execution_count": 40,
      "outputs": [
        {
          "output_type": "stream",
          "name": "stdout",
          "text": [
            "[[168.93654]]\n"
          ]
        }
      ]
    },
    {
      "cell_type": "code",
      "source": [
        "apple_quote2=web.DataReader('AAPL',data_source='yahoo',start='2022-08-24', end='2022-08-24')\n",
        "apple_quote2['Close']"
      ],
      "metadata": {
        "colab": {
          "base_uri": "https://localhost:8080/"
        },
        "id": "uIG0ulyrf7A8",
        "outputId": "da40ccdc-b73c-47f6-ee1b-51675d363312"
      },
      "execution_count": 46,
      "outputs": [
        {
          "output_type": "execute_result",
          "data": {
            "text/plain": [
              "Date\n",
              "2022-08-24    167.529999\n",
              "Name: Close, dtype: float64"
            ]
          },
          "metadata": {},
          "execution_count": 46
        }
      ]
    }
  ]
}